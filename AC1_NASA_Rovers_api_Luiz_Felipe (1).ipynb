{
  "nbformat": 4,
  "nbformat_minor": 0,
  "metadata": {
    "colab": {
      "provenance": []
    },
    "kernelspec": {
      "name": "python3",
      "display_name": "Python 3"
    },
    "language_info": {
      "name": "python"
    }
  },
  "cells": [
    {
      "cell_type": "code",
      "execution_count": null,
      "metadata": {
        "id": "thIjNzMJrCSo"
      },
      "outputs": [],
      "source": [
        "import requests"
      ]
    },
    {
      "cell_type": "markdown",
      "source": [
        "Exemplo para o RA\n",
        "\n",
        "https://api.nasa.gov/mars-photos/api/v1/rovers/spirit/photos?sol=234&api_key=oDJdhgfyfODs3kVjufYdgVb4VrtFtXpFKPG3YNQv&camera=PANCAM\n",
        "\n",
        "Com esse link, utilizando a câmera panorâmica (PANCAM), número de sol 234 e o rover spirit, são impressos os seguintes links:\n",
        "\n",
        "http://mars.nasa.gov/mer/gallery/all/2/p/234/2P147135545EFF8600P2621L3M1-BR.JPG\n",
        "http://mars.nasa.gov/mer/gallery/all/2/p/234/2P147135569EFF8600P2621L5M1-BR.JPG http://mars.nasa.gov/mer/gallery/all/2/p/234/2P147135626EFF8600P2621L7M1-BR.JPG\n",
        "http://mars.nasa.gov/mer/gallery/all/2/p/234/2P147135493ESF8600P2621L8M1-BR.JPG\n",
        "http://mars.nasa.gov/mer/gallery/all/2/p/234/2P147135493ESF8600P2621R8M1-BR.JPG\n"
      ],
      "metadata": {
        "id": "cyh_vBGUrXAT"
      }
    },
    {
      "cell_type": "code",
      "source": [
        "print(\"Site da API da NASA: https://api.nasa.gov/\")\n",
        "rover_cam = input(\"Insira a abreviação da câmera: \")\n",
        "rover = input(\"Insira o nome, em minúsculo, do rover: \")\n",
        "while True:\n",
        "  sol = input(\"Insira o número do sol: \")\n",
        "\n",
        "  if sol==\"a\":\n",
        "    break\n",
        "\n",
        "  url = \"https://api.nasa.gov/mars-photos/api/v1/rovers/{}/photos\".format(rover)\n",
        "  parametros = {\n",
        "    'sol': sol,\n",
        "    'api_key': 'oDJdhgfyfODs3kVjufYdgVb4VrtFtXpFKPG3YNQv',\n",
        "    'camera': rover_cam\n",
        "  }\n",
        "\n",
        "  resposta = requests.get(url, params=parametros)\n",
        "  cont=0\n",
        "\n",
        "  if resposta.status_code == 200:\n",
        "    resposta_json = resposta.json()\n",
        "    for foto in resposta_json:\n",
        "      cont+=1\n",
        "\n",
        "    if cont==0:\n",
        "       print(\"Não existem fotos para esse número de sol\")\n",
        "    else:\n",
        "      for foto in resposta_json['photos']:\n",
        "          print(\"O link da foto é: \",foto['img_src'])\n",
        "  else:\n",
        "    print(f\"Erro na requisição: {resposta.status_code}\")"
      ],
      "metadata": {
        "colab": {
          "base_uri": "https://localhost:8080/"
        },
        "id": "0A1z1w_wrGM2",
        "outputId": "7724909f-3c48-47eb-f8ad-bdaae5be8c16"
      },
      "execution_count": null,
      "outputs": [
        {
          "output_type": "stream",
          "name": "stdout",
          "text": [
            "Site da API da NASA: https://api.nasa.gov/\n",
            "Insira a abreviação da câmera: MARDI\n",
            "Insira o nome, em minúsculo, do rover: curiosity\n",
            "Insira o número do sol: 100\n",
            "O link da foto é:  http://mars.jpl.nasa.gov/msl-raw-images/msss/00100/mrdi/0100MD0000340000101525I01_DXXX.jpg\n",
            "O link da foto é:  http://mars.jpl.nasa.gov/msl-raw-images/msss/00100/mrdi/0100MD0000350000101526E01_DXXX.jpg\n",
            "O link da foto é:  http://mars.jpl.nasa.gov/msl-raw-images/msss/00100/mrdi/0100MD0000340000101525E01_DXXX.jpg\n",
            "O link da foto é:  http://mars.jpl.nasa.gov/msl-raw-images/msss/00100/mrdi/0100MD0000350000101526I01_DXXX.jpg\n",
            "Insira o número do sol: 100\n",
            "O link da foto é:  http://mars.jpl.nasa.gov/msl-raw-images/msss/00100/mrdi/0100MD0000340000101525I01_DXXX.jpg\n",
            "O link da foto é:  http://mars.jpl.nasa.gov/msl-raw-images/msss/00100/mrdi/0100MD0000350000101526E01_DXXX.jpg\n",
            "O link da foto é:  http://mars.jpl.nasa.gov/msl-raw-images/msss/00100/mrdi/0100MD0000340000101525E01_DXXX.jpg\n",
            "O link da foto é:  http://mars.jpl.nasa.gov/msl-raw-images/msss/00100/mrdi/0100MD0000350000101526I01_DXXX.jpg\n"
          ]
        }
      ]
    }
  ]
}